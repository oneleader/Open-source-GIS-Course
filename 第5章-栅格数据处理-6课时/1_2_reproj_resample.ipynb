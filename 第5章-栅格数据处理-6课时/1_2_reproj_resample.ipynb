{
 "cells": [
  {
   "attachments": {},
   "cell_type": "markdown",
   "metadata": {},
   "source": [
    "### **利用gdal开源库进行栅格文件处理**\n",
    "#### 1. 投影转换\n",
    "#### 2. 重采样\n"
   ]
  },
  {
   "cell_type": "code",
   "execution_count": 1,
   "metadata": {},
   "outputs": [],
   "source": [
    "from osgeo import gdal\n",
    "from osgeo import osr\n"
   ]
  },
  {
   "attachments": {},
   "cell_type": "markdown",
   "metadata": {},
   "source": [
    "#### 1. 投影转换"
   ]
  },
  {
   "cell_type": "code",
   "execution_count": null,
   "metadata": {},
   "outputs": [],
   "source": [
    "path_img = 'data/Section-2/s2_chenggong_20200411_6bands_20m.tif'\n",
    "path_reproj = 'data/Section-5/s2_chenggong_20200411_6bands_20m_wgs84.tif'"
   ]
  },
  {
   "cell_type": "code",
   "execution_count": 3,
   "metadata": {},
   "outputs": [
    {
     "name": "stdout",
     "output_type": "stream",
     "text": [
      "projection: PROJCS[\"WGS 84 / UTM zone 47N\",GEOGCS[\"WGS 84\",DATUM[\"WGS_1984\",SPHEROID[\"WGS 84\",6378137,298.257223563,AUTHORITY[\"EPSG\",\"7030\"]],AUTHORITY[\"EPSG\",\"6326\"]],PRIMEM[\"Greenwich\",0,AUTHORITY[\"EPSG\",\"8901\"]],UNIT[\"degree\",0.0174532925199433,AUTHORITY[\"EPSG\",\"9122\"]],AUTHORITY[\"EPSG\",\"4326\"]],PROJECTION[\"Transverse_Mercator\"],PARAMETER[\"latitude_of_origin\",0],PARAMETER[\"central_meridian\",99],PARAMETER[\"scale_factor\",0.9996],PARAMETER[\"false_easting\",500000],PARAMETER[\"false_northing\",0],UNIT[\"metre\",1,AUTHORITY[\"EPSG\",\"9001\"]],AXIS[\"Easting\",EAST],AXIS[\"Northing\",NORTH],AUTHORITY[\"EPSG\",\"32647\"]]\n"
     ]
    }
   ],
   "source": [
    "## 读入栅格数据，包括影像信息和地理信息\n",
    "dset = gdal.Open(path_img)\n",
    "proj = dset.GetProjection()    ### 获取影像投影\n",
    "print('projection:', proj)\n"
   ]
  },
  {
   "cell_type": "code",
   "execution_count": 4,
   "metadata": {},
   "outputs": [
    {
     "name": "stdout",
     "output_type": "stream",
     "text": [
      "874420.0 2769600.0\n",
      "the left-up coordinate of the utm projection: 102.70864034390206 24.995729297438114\n"
     ]
    }
   ],
   "source": [
    "### 左上角utm坐标计算, 及utm投影下影像范围\n",
    "utm47_epsg = 32647\n",
    "wgs84_epsg = 4326\n",
    "utm47 = osr.SpatialReference(); \n",
    "utm47.ImportFromEPSG(utm47_epsg)\n",
    "wgs84 = osr.SpatialReference(); \n",
    "wgs84.ImportFromEPSG(wgs84_epsg)\n",
    "proj_utm47_wkt = utm47.ExportToWkt()\n",
    "proj_wgs84_wkt = wgs84.ExportToWkt()\n",
    "wgs84.SetAxisMappingStrategy(osr.OAMS_TRADITIONAL_GIS_ORDER)\n",
    "transform = osr.CoordinateTransformation(utm47, wgs84)\n",
    "geo_trans = dset.GetGeoTransform()\n",
    "print(geo_trans[0], geo_trans[3])   ## 左上角x,y坐标\n",
    "(x_min_wgs84, y_max_wgs84, z) = transform.TransformPoint(geo_trans[0], geo_trans[3], 0)  ## 输入参数为(纬度，经度）,输出参数为（x，y），注意顺序\n",
    "print('the left-up coordinate of the utm projection:', x_min_wgs84, y_max_wgs84)\n"
   ]
  },
  {
   "cell_type": "code",
   "execution_count": 5,
   "metadata": {},
   "outputs": [
    {
     "name": "stdout",
     "output_type": "stream",
     "text": [
      "102.99381089981256 24.694382912987106\n",
      "0.0001913896348392598 0.00018487508248528128\n"
     ]
    }
   ],
   "source": [
    "### 像元尺寸（分辨率）计算\n",
    "x_max_utm = geo_trans[0]+geo_trans[1]*dset.RasterXSize  ## x方向最大值\n",
    "y_min_utm = geo_trans[3]+geo_trans[5]*dset.RasterYSize  ## y方向最小值\n",
    "(x_max_wgs84, y_min_wgs84, z) = transform.TransformPoint(x_max_utm, y_min_utm, 0)  ## 输入参数为(纬度，经度, 输出参数为（x，y），注意顺序\n",
    "print(x_max_wgs84, y_min_wgs84)\n",
    "width_pixel = (x_max_wgs84-x_min_wgs84)/dset.RasterXSize\n",
    "height_pixel = (y_max_wgs84-y_min_wgs84)/dset.RasterYSize\n",
    "print(width_pixel, height_pixel)\n"
   ]
  },
  {
   "cell_type": "code",
   "execution_count": 6,
   "metadata": {},
   "outputs": [],
   "source": [
    "### 定义新的转换参数和投影\n",
    "geotrans_wgs84 = (102.70864034390206, 0.0001913896348392598, 0.0, 24.995729297438114, 0, -0.00018487508248528128)\n"
   ]
  },
  {
   "cell_type": "code",
   "execution_count": 7,
   "metadata": {},
   "outputs": [],
   "source": [
    "driver = gdal.GetDriverByName('GTiff')\n",
    "dset_wgs84 = driver.Create(path_reproj, xsize=dset.RasterXSize, \\\n",
    "                                ysize=dset.RasterYSize, bands=dset.RasterCount, eType=gdal.GDT_Int16)\n",
    "dset_wgs84.SetGeoTransform(geotrans_wgs84)\n",
    "dset_wgs84.SetProjection(proj_wgs84_wkt)\n",
    "\n",
    "## 影像重投影\n",
    "reproj = gdal.ReprojectImage(src_ds=dset, dst_ds=dset_wgs84, src_wkt=proj_utm47_wkt, dst_wkt=proj_wgs84_wkt)\n",
    "dset_wgs84 = None  ## 关闭文件\n",
    "\n"
   ]
  },
  {
   "attachments": {},
   "cell_type": "markdown",
   "metadata": {},
   "source": [
    "### 重采样"
   ]
  },
  {
   "cell_type": "code",
   "execution_count": 8,
   "metadata": {},
   "outputs": [],
   "source": [
    "path_resam = 'data/Section-5/s2_chenggong_20200411_6bands_20m_resam.tif'\n",
    "res=60  ## 定义分辨率\n"
   ]
  },
  {
   "cell_type": "code",
   "execution_count": 9,
   "metadata": {},
   "outputs": [
    {
     "name": "stdout",
     "output_type": "stream",
     "text": [
      "(874420.0, 2769600.0) (904220.0, 2737000.0)\n"
     ]
    }
   ],
   "source": [
    "dset = gdal.Open(path_img)\n",
    "geo_trans = dset.GetGeoTransform()\n",
    "x_min, y_max = geo_trans[0], geo_trans[3]\n",
    "x_max = x_min + geo_trans[1]*dset.RasterXSize\n",
    "y_min = y_max + geo_trans[5]*dset.RasterYSize\n",
    "print((x_min,y_max), (x_max, y_min))\n"
   ]
  },
  {
   "cell_type": "code",
   "execution_count": 10,
   "metadata": {},
   "outputs": [
    {
     "name": "stdout",
     "output_type": "stream",
     "text": [
      "496.6666666666667 543.3333333333334\n",
      "Final image size (x, y): 496 543\n",
      "New resolution (x, y): 60.08064516129032 60.03683241252302\n"
     ]
    }
   ],
   "source": [
    "### 1.计算影像尺寸\n",
    "x_size = (x_max - x_min)/res  ## x方向尺寸\n",
    "y_size = (y_max - y_min)/res   ## y方向尺寸\n",
    "print(x_size, y_size)\n",
    "x_size, y_size = int(x_size), int(y_size)\n",
    "### 2.更新影像分辨率\n",
    "res_x = (x_max - x_min)/x_size  ##  新的x方向分辨率（像元宽）\n",
    "res_y = (y_max - y_min)/y_size  ##  新的y方向分辨率（像元高）\n",
    "print('Final image size (x, y):', int(x_size), int(y_size))\n",
    "print('New resolution (x, y):', res_x, res_y)\n",
    "### 3. 定义地理转换参数\n",
    "geotrans_resample = (874420.0, 60.08064516129032, 0, 2769600.0, 0, -60.03683241252302)\n"
   ]
  },
  {
   "cell_type": "code",
   "execution_count": 11,
   "metadata": {},
   "outputs": [],
   "source": [
    "driver = gdal.GetDriverByName('GTiff')\n",
    "dset_resam = driver.Create(path_resam, xsize=x_size, \\\n",
    "                                ysize=y_size, bands=dset.RasterCount, eType=gdal.GDT_Int16)\n",
    "dset_resam.SetGeoTransform(geotrans_resample)\n",
    "dset_resam.SetProjection(dset.GetProjection())\n",
    "## 影像重投影\n",
    "reproj = gdal.ReprojectImage(src_ds=dset, dst_ds=dset_resam, eResampleAlg=gdal.GRA_Bilinear)\n",
    "dset_resam = None  ## 关闭文件\n"
   ]
  },
  {
   "attachments": {},
   "cell_type": "markdown",
   "metadata": {},
   "source": [
    "### 快捷方式\n",
    "主要函数：gdal.Warp()/gdalwarp   \n",
    "参考：   \n",
    "1.https://gdal.org/api/python/osgeo.gdal.html.   \n",
    "2.https://gdal.org/programs/gdalwarp.html"
   ]
  },
  {
   "cell_type": "code",
   "execution_count": 12,
   "metadata": {},
   "outputs": [],
   "source": [
    "path_img = 'data/Section-2/s2_chenggong_20200411_6bands_20m.tif'\n",
    "path_reproj = 'data/Section-5/s2_chenggong_20200411_6bands_20m_wgs84_2.tif'\n",
    "path_resam = 'data/Section-5/s2_chenggong_20200411_6bands_20m_resam_2.tif'\n",
    "\n",
    "### 重投影\n",
    "warp_reproj = gdal.Warp(destNameOrDestDS=path_reproj, srcDSOrSrcDSTab=path_img, dstSRS='EPSG:4326')  ### 利用gdal.Warp()进行投影转换\n",
    "warp_reproj = None   ### !!关闭文件\n"
   ]
  },
  {
   "cell_type": "code",
   "execution_count": 14,
   "metadata": {},
   "outputs": [],
   "source": [
    "### 重采样\n",
    "warp_resam = gdal.Warp(destNameOrDestDS=path_resam, srcDSOrSrcDSTab=path_img, xRes=60, yRes=60)  ### 利用gdal.Warp()进行投影转换\n",
    "# warp_resam = gdal.Warp(destNameOrDestDS=path_resam, srcDSOrSrcDSTab=path_img, xRes=60, yRes=60, resampleAlg=gdal.GRA_Bilinear)  ### 利用gdal.Warp()进行投影转换\n",
    "warp_resam = None   ### !!关闭文件\n",
    "\n"
   ]
  }
 ],
 "metadata": {
  "kernelspec": {
   "display_name": "venv",
   "language": "python",
   "name": "python3"
  },
  "language_info": {
   "codemirror_mode": {
    "name": "ipython",
    "version": 3
   },
   "file_extension": ".py",
   "mimetype": "text/x-python",
   "name": "python",
   "nbconvert_exporter": "python",
   "pygments_lexer": "ipython3",
   "version": "3.9.18"
  },
  "orig_nbformat": 4
 },
 "nbformat": 4,
 "nbformat_minor": 2
}
