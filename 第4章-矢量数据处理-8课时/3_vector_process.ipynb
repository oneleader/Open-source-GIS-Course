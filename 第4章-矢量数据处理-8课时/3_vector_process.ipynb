{
 "cells": [
  {
   "attachments": {},
   "cell_type": "markdown",
   "metadata": {},
   "source": [
    "## **利用ogr开源库进行矢量文件的读写**\n",
    "**1. 投影转换**  \n",
    "**2. 计算面要素的面积信息，添加面积字段/删除面积字段**  \n",
    "**3. 获取面要素中心点，新建中心点图层**  \n",
    "**4. 根据地理信息新建面要素**  \n"
   ]
  },
  {
   "cell_type": "code",
   "execution_count": 1,
   "metadata": {},
   "outputs": [],
   "source": [
    "from osgeo import ogr\n",
    "from osgeo import osr\n"
   ]
  },
  {
   "cell_type": "code",
   "execution_count": 9,
   "metadata": {},
   "outputs": [],
   "source": [
    "path_kunming_districts = 'data/Section-2/kunming_districts.shp'\n",
    "\n"
   ]
  },
  {
   "attachments": {},
   "cell_type": "markdown",
   "metadata": {},
   "source": [
    "### 1. Re-project the vector to utm projection.\n",
    "EPSG是European Petroleum Survey Group (欧洲石油调查小组)的缩写,该组织发布了一个坐标参照系统的数据集,数据集对全球收录到的坐标参照系统进行了编码。  \n",
    "wgs84: 4326; \n",
    "wgs84+utm: 北半球：326+投影带（如32622）；南半球：327+投影带（32722）\n"
   ]
  },
  {
   "cell_type": "code",
   "execution_count": 3,
   "metadata": {},
   "outputs": [
    {
     "name": "stdout",
     "output_type": "stream",
     "text": [
      "PROJCS[\"WGS 84 / UTM zone 48N\",GEOGCS[\"WGS 84\",DATUM[\"WGS_1984\",SPHEROID[\"WGS 84\",6378137,298.257223563,AUTHORITY[\"EPSG\",\"7030\"]],AUTHORITY[\"EPSG\",\"6326\"]],PRIMEM[\"Greenwich\",0,AUTHORITY[\"EPSG\",\"8901\"]],UNIT[\"degree\",0.0174532925199433,AUTHORITY[\"EPSG\",\"9122\"]],AUTHORITY[\"EPSG\",\"4326\"]],PROJECTION[\"Transverse_Mercator\"],PARAMETER[\"latitude_of_origin\",0],PARAMETER[\"central_meridian\",105],PARAMETER[\"scale_factor\",0.9996],PARAMETER[\"false_easting\",500000],PARAMETER[\"false_northing\",0],UNIT[\"metre\",1,AUTHORITY[\"EPSG\",\"9001\"]],AXIS[\"Easting\",EAST],AXIS[\"Northing\",NORTH],AUTHORITY[\"EPSG\",\"32648\"]]\n"
     ]
    }
   ],
   "source": [
    "#### Reprojection\n",
    "path_kunming_districts_utm = 'data/Section-4/kunming_districts_utm.shp'\n",
    "utm_epsg = 32648\n",
    "in_ds = ogr.Open(path_kunming_districts)\n",
    "in_layer = in_ds.GetLayer(0)\n",
    "### 创建输出矢量\n",
    "driver = ogr.GetDriverByName('ESRI Shapefile')\n",
    "out_ds = driver.CreateDataSource(path_kunming_districts_utm)\n",
    "out_layer = out_ds.CreateLayer('kunming_districts_utm', geom_type = ogr.wkbPolygon)\n",
    "### 在图层上创建属性字段\n",
    "for i in range(in_layer.GetFeature(0).GetFieldCount()):\n",
    "  field_defn = in_layer.GetFeature(0).GetFieldDefnRef(i)\n",
    "  out_layer.CreateField(field_defn)\n",
    "\n",
    "## 空间参考\n",
    "spatialRef = in_layer.GetSpatialRef()\n",
    "utm_spatialRef = osr.SpatialReference()\n",
    "utm_spatialRef.ImportFromEPSG(utm_epsg)\n",
    "# 投影转换定义\n",
    "coordinate_transform = osr.CoordinateTransformation(spatialRef, utm_spatialRef)\n",
    "## 获得要素定义\n",
    "FeaDefn = in_layer.GetLayerDefn()\n",
    "### 遍历每个要素\n",
    "for i in range(in_layer.GetFeatureCount()):\n",
    "  in_fea = in_layer.GetFeature(i)\n",
    "  in_geo = in_fea.geometry()            ## 获得原矢量要素的几何\n",
    "  in_geo.Transform(coordinate_transform)\n",
    "  out_geo = in_geo \n",
    "  out_fea = ogr.Feature(FeaDefn)        ## 定义输出要素\n",
    "  out_fea.SetGeometry(in_geo)           ## 在输出要素中添加几何\n",
    "  ### 遍历每个属性字段\n",
    "  for j in range(FeaDefn.GetFieldCount()):\n",
    "    field_value = in_fea.GetField(j)\n",
    "    out_fea.SetField(j, field_value)    ## 在输出要素中添加输出属性\n",
    "  out_layer.CreateFeature(out_fea)\n",
    "ds = None\n",
    "out_ds = None\n",
    "\n",
    "# 保存投影文件\n",
    "prj_path = path_kunming_districts_utm.replace(\".shp\", \".prj\")\n",
    "fn = open(prj_path, 'w')\n",
    "print(utm_spatialRef.ExportToWkt())\n",
    "fn.write(utm_spatialRef.ExportToWkt())\n",
    "fn.close()\n"
   ]
  },
  {
   "attachments": {},
   "cell_type": "markdown",
   "metadata": {},
   "source": [
    "#### 2. 添加/删除面积字段，并计算面积"
   ]
  },
  {
   "cell_type": "code",
   "execution_count": 12,
   "metadata": {},
   "outputs": [],
   "source": [
    "ds = ogr.Open(path_kunming_districts_utm, 1)  ## 0是只读，1是可写\n",
    "layer = ds.GetLayer(0)\n",
    "# field_defn = ogr.FieldDefn('Area', ogr.OFTReal)   ## OFTReal：浮点型；OFTInteger: 整型\n",
    "# layer.CreateField(field_defn)       ## 创建新字段\n",
    "id_field = layer.GetFeature(0).GetFieldIndex('area')\n",
    "layer.DeleteField(id_field)   ## 删除字段，参数只能是索引\n",
    "ds = None    ### 关闭数据源（重要）\n"
   ]
  },
  {
   "cell_type": "code",
   "execution_count": 5,
   "metadata": {},
   "outputs": [
    {
     "name": "stdout",
     "output_type": "stream",
     "text": [
      "Area is:  377.9959786954036\n",
      "Area is:  864.2952967369314\n",
      "Area is:  638.33361729476\n",
      "Area is:  897.3967316211449\n",
      "Area is:  1866.1175875335907\n",
      "Area is:  499.3639638876685\n",
      "Area is:  1338.5644973111487\n",
      "Area is:  994.6751193008305\n",
      "Area is:  1914.0921754168523\n",
      "Area is:  1681.3428560105956\n",
      "Area is:  828.4756858595108\n",
      "Area is:  4227.345074248596\n",
      "Area is:  3598.342900037223\n",
      "Area is:  1301.0062596518314\n"
     ]
    }
   ],
   "source": [
    "ds = ogr.Open(path_kunming_districts_utm, 1)  ## 0是只读，1是可写\n",
    "layer = ds.GetLayer(0)\n",
    "### 遍历每一个要素\n",
    "for i in range(layer.GetFeatureCount()):\n",
    "  fea = layer.GetFeature(i)\n",
    "  fea_area = fea.geometry().Area()\n",
    "  fea_area = fea_area/1000000       ### 单位：千米\n",
    "  print('Area is: ', fea_area)\n",
    "  fea.SetField('Area', fea_area)   ## 对面积字段Field赋值\n",
    "  layer.SetFeature(fea)  ## 更新特征\n",
    "ds = None    ### 关闭数据源（重要）\n"
   ]
  },
  {
   "attachments": {},
   "cell_type": "markdown",
   "metadata": {},
   "source": [
    "#### 3. 获取面要素中心点，新建中心点图层"
   ]
  },
  {
   "cell_type": "code",
   "execution_count": 6,
   "metadata": {},
   "outputs": [],
   "source": [
    "path_kunming_districts_centroid = 'data/Section-4/kunming_districts_centroid.shp'\n",
    "in_ds = ogr.Open(path_kunming_districts, 0)  ## 0是只读，1是可写\n",
    "in_layer = in_ds.GetLayer(0); \n",
    "## 空间参考\n",
    "in_SpatialRef = in_layer.GetSpatialRef()\n",
    "### 创建新矢量文件\n",
    "driver = ogr.GetDriverByName('ESRI Shapefile')\n",
    "out_ds = driver.CreateDataSource(path_kunming_districts_centroid)\n",
    "out_layer = out_ds.CreateLayer('kunming_districts_centroid', geom_type=ogr.wkbPoint, srs=in_SpatialRef)  # create new layer in the shapefile \n",
    "field_defn = ogr.FieldDefn('Fid', ogr.OFTInteger)   ## 定义属性字段\n",
    "out_layer.CreateField(field_defn)     ## 创建新字段\n",
    "out_fea_defn = out_layer.GetLayerDefn()\n",
    "## 遍历要素\n",
    "for i in range(in_layer.GetFeatureCount()):\n",
    "  in_fea = in_layer.GetFeature(i)\n",
    "  out_geo = in_fea.geometry().Centroid()  ## 获得中心点几何  \n",
    "  out_fea = ogr.Feature(out_fea_defn)     ## 创建空要素\n",
    "  out_fea.SetGeometry(out_geo)            ## 设置要素几何\n",
    "  out_fea.SetField('Fid', i+1)            ## 设置字段值\n",
    "  out_layer.CreateFeature(out_fea)        ## 在图层中创建要素。\n",
    "out_ds = None                            ## 关闭数据源\n",
    "ds = None\n",
    "\n"
   ]
  },
  {
   "attachments": {},
   "cell_type": "markdown",
   "metadata": {},
   "source": [
    "#### 4. 新建几何及多要素图层\n",
    "云大呈贡校园范围（(102.837, 24.832), (102.842, 24.836), (102.849, 24.836), (102.857, 24.835), (102.864, 24.828),(102.855, 24.826), (102.845, 24.821),(102.837, 24.832)）  \n",
    "wkt(OGC well-known text)和wkb(OGC well-known binary)是OGC制定的空间数据的组织规范，wkt是以文本形式描述，wkb是以二进制形式描述。   \n",
    "示例:  \n",
    "Point: POINT (100 30)  \n",
    "LineString: LINESTRING (120 10, 100 30, 90 20, 70 40)  \n",
    "Polygon: POLYGON ((130 10, -140 40, 120 40, 110 20, 115 10))  "
   ]
  },
  {
   "cell_type": "code",
   "execution_count": 2,
   "metadata": {},
   "outputs": [],
   "source": [
    "path_ynu_vector = 'data/Section-4/ynu_vec.shp'\n",
    "### Create polygon by define wkt\n",
    "ynu_wkt = \"POLYGON ((102.837 24.832,102.842 24.836,102.849 24.836,102.857 24.835,102.864 24.828,102.855 24.826,102.845 24.821,102.837 24.832))\"\n",
    "geo_ynu = ogr.CreateGeometryFromWkt(ynu_wkt)\n",
    "SpatialRef = osr.SpatialReference()   ## create spatial reference object\n",
    "SpatialRef.ImportFromEPSG(4326)       ## set it to EPSG:4326\n",
    "### 创建输出矢量数据\n",
    "driver = ogr.GetDriverByName('ESRI Shapefile')\n",
    "ds_ynu = driver.CreateDataSource(path_ynu_vector)\n",
    "layer_ynu = ds_ynu.CreateLayer('ynu_vec', srs=SpatialRef, geom_type=ogr.wkbPolygon)\n",
    "field_defn = ogr.FieldDefn('Fid', ogr.OFTInteger)  ## 字段定义\n",
    "layer_ynu.CreateField(field_defn)   ## 创建属性字段\n",
    "fea_defn = layer_ynu.GetLayerDefn()\n",
    "fea_ynu = ogr.Feature(fea_defn)  ## 定义要素\n",
    "fea_ynu.SetField('Fid', 1)\n",
    "fea_ynu.SetGeometry(geo_ynu)\n",
    "layer_ynu.CreateFeature(fea_ynu)\n",
    "ds_ynu = None\n",
    "\n"
   ]
  },
  {
   "cell_type": "code",
   "execution_count": null,
   "metadata": {},
   "outputs": [],
   "source": [
    "\n",
    "\n"
   ]
  }
 ],
 "metadata": {
  "kernelspec": {
   "display_name": "venv",
   "language": "python",
   "name": "python3"
  },
  "language_info": {
   "codemirror_mode": {
    "name": "ipython",
    "version": 3
   },
   "file_extension": ".py",
   "mimetype": "text/x-python",
   "name": "python",
   "nbconvert_exporter": "python",
   "pygments_lexer": "ipython3",
   "version": "3.9.18"
  },
  "orig_nbformat": 4
 },
 "nbformat": 4,
 "nbformat_minor": 2
}
