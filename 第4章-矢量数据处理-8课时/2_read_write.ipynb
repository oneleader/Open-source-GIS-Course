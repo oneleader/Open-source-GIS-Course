{
 "cells": [
  {
   "attachments": {},
   "cell_type": "markdown",
   "metadata": {},
   "source": [
    "## **利用ogr开源库进行矢量文件的读写**\n"
   ]
  },
  {
   "cell_type": "code",
<<<<<<< HEAD
   "execution_count": null,
=======
   "execution_count": 1,
>>>>>>> upstream/main
   "metadata": {},
   "outputs": [],
   "source": [
    "from osgeo import ogr\n"
   ]
  },
  {
   "attachments": {},
   "cell_type": "markdown",
   "metadata": {},
   "source": [
    "#### **1. 用python读入矢量文件**"
   ]
  },
  {
   "cell_type": "code",
   "execution_count": 2,
   "metadata": {},
   "outputs": [],
   "source": [
<<<<<<< HEAD
    "path_kunming = 'data/Section-2/kunming_districts.shp'\n",
    "path_kunming_out_1 = 'data/Section-4/vector_out_1.shp'\n",
    "path_kunming_out_2 = 'data/Section-4/vector_out_2.shp'\n"
=======
    "path_kunming = 'data/Section-2/kunming_districts.shp'\n"
>>>>>>> upstream/main
   ]
  },
  {
   "cell_type": "code",
   "execution_count": 3,
   "metadata": {},
   "outputs": [
    {
     "name": "stdout",
     "output_type": "stream",
     "text": [
      "Number of feature:  14\n",
      "Number of fields: 8\n"
     ]
    }
   ],
   "source": [
    "### 读入矢量文件\n",
<<<<<<< HEAD
    "ds = ogr.Open(path_kunming, 0)  # 0是只读，1是可写\n",
    "layer = ds.GetLayer(0)          # 获取矢量文件Layer\n",
    "num_fea = layer.GetFeatureCount()   ## 统计要素个数\n",
    "print('Number of feature: ', num_fea)\n",
    "num_field = layer.GetFeature(0).GetFieldCount()   ## 统计字数个数\n",
=======
    "ds = ogr.Open(path_kunming, 0)    # 0是只读，1是可写\n",
    "layer = ds.GetLayer(0)            # 获取矢量文件Layer\n",
    "num_fea = layer.GetFeatureCount()   ## 统计要素个数\n",
    "print('Number of feature: ', num_fea)\n",
    "num_field = layer.GetFeature(0).GetFieldCount()   ## 统计属性个数\n",
>>>>>>> upstream/main
    "print('Number of fields:', num_field)\n"
   ]
  },
  {
   "attachments": {},
   "cell_type": "markdown",
   "metadata": {},
   "source": [
<<<<<<< HEAD
    "#### **2.查看矢量文件字段**"
=======
    "#### **2. 查看矢量文件属性字段**"
>>>>>>> upstream/main
   ]
  },
  {
   "cell_type": "code",
   "execution_count": 4,
   "metadata": {},
   "outputs": [
    {
     "name": "stdout",
     "output_type": "stream",
     "text": [
      "['dt_adcode', 'dt_name', 'ct_adcode', 'ct_name', 'pr_adcode', 'pr_name', 'cn_adcode', 'cn_name']\n"
     ]
    }
   ],
   "source": [
<<<<<<< HEAD
    "### 查看字段名\n",
=======
    "### 查看属性字段名\n",
>>>>>>> upstream/main
    "fields = []\n",
    "fea = layer.GetFeature(0)\n",
    "for i in range(0, num_field):\n",
    "    field = fea.GetFieldDefnRef(i).name\n",
    "    fields.append(field)\n",
    "print(fields)\n"
   ]
  },
  {
   "cell_type": "code",
   "execution_count": 5,
   "metadata": {},
   "outputs": [
    {
     "name": "stdout",
     "output_type": "stream",
     "text": [
      "Filed value:\n",
<<<<<<< HEAD
      " 盘龙区\n",
      "五华区\n",
=======
      " wuhua\n",
      "Filed value: wuhua\n",
      "Filed value: 盘龙区\n",
      "Filed value: 官渡区\n",
      "Filed value: 西山区\n",
      "Filed value: 东川区\n",
      "Filed value: 呈贡区\n",
      "Filed value: 晋宁区\n",
      "Filed value: 富民县\n",
      "Filed value: 宜良县\n",
      "Filed value: 石林彝族自治县\n",
      "Filed value: 嵩明县\n",
      "Filed value: 禄劝彝族苗族自治县\n",
      "Filed value: 寻甸回族彝族自治县\n",
      "Filed value: 安宁市\n"
     ]
    }
   ],
   "source": [
    "### 查看属性字段值（以dt_name为例）\n",
    "field_name = 'dt_name'\n",
    "fea = layer.GetFeature(0)\n",
    "print('Filed value:\\n', fea.GetField(field_name))\n",
    "### 获得所有要素的字段值\n",
    "for i in range(layer.GetFeatureCount()):   ##\n",
    "  fea = layer.GetFeature(i)\n",
    "  print('Filed value:', fea.GetField(field_name))\n",
    "\n"
   ]
  },
  {
   "cell_type": "code",
   "execution_count": 6,
   "metadata": {},
   "outputs": [],
   "source": [
    "ds = None"
   ]
  },
  {
   "attachments": {},
   "cell_type": "markdown",
   "metadata": {},
   "source": [
    "#### **3. 写出矢量文件**"
   ]
  },
  {
   "cell_type": "code",
   "execution_count": 7,
   "metadata": {},
   "outputs": [],
   "source": [
    "path_kunming_out_1 = 'data/Section-4/kunming_districts_dtname.shp'\n",
    "path_kunming_out_2 = 'data/Section-4/kunming_chenggong.shp'\n"
   ]
  },
  {
   "attachments": {},
   "cell_type": "markdown",
   "metadata": {},
   "source": [
    "#### 3.1 写出只含有特定字段的矢量文件\n",
    "1）读入矢量数据并获取矢量数据图层；  \n",
    "2）创建新矢量文件，以此创建数据源、图层、字段。其中新建图层需定义图层名、几何、空间参考。新建字段需先定义字段，定义字段需提供字段名、字段数据类型。  \n",
    "3）遍历矢量图层要素，写入要素几何及所需属性字段。\n"
   ]
  },
  {
   "cell_type": "code",
   "execution_count": 11,
   "metadata": {},
   "outputs": [
    {
     "name": "stdout",
     "output_type": "stream",
     "text": [
      "wuhua\n",
>>>>>>> upstream/main
      "盘龙区\n",
      "官渡区\n",
      "西山区\n",
      "东川区\n",
      "呈贡区\n",
      "晋宁区\n",
      "富民县\n",
      "宜良县\n",
      "石林彝族自治县\n",
      "嵩明县\n",
      "禄劝彝族苗族自治县\n",
      "寻甸回族彝族自治县\n",
      "安宁市\n"
     ]
    }
   ],
   "source": [
<<<<<<< HEAD
    "### 查看字段值\n",
    "field_name = 'dt_name'\n",
    "fea = layer.GetFeature(1)\n",
    "print('Filed value:\\n', fea.GetField(field_name))\n",
    "### 获得所有要素的字段值\n",
    "for fea in layer:   ##\n",
    "  print(fea.GetField(field_name))\n",
    "\n"
   ]
  },
  {
   "attachments": {},
   "cell_type": "markdown",
   "metadata": {},
   "source": [
    "#### **3. 写出矢量文件**"
   ]
  },
  {
   "attachments": {},
   "cell_type": "markdown",
   "metadata": {},
   "source": [
    "#### 3.1 写出只含有特定字段的矢量文件\n",
    "1）获取矢量文件图层；2）创建新矢量文件，以此创建数据源、图层、字段。其中新建图层需定义图层名、几何、空间参考。新建字段需先定义字段，定义字段需提供字段名、字段数据类型。3）然后遍历矢量图层要素，提取要素几何，并写入新数据要素中，同时定义新要素字段。\n",
    "  \n"
   ]
  },
  {
   "cell_type": "code",
   "execution_count": 6,
   "metadata": {},
   "outputs": [
    {
     "name": "stderr",
     "output_type": "stream",
     "text": [
      "Warning 1: Value '五华区' of field vector_out_1.dt_name parsed incompletely to real 0.\n",
      "Warning 1: Value '盘龙区' of field vector_out_1.dt_name parsed incompletely to real 0.\n",
      "Warning 1: Value '官渡区' of field vector_out_1.dt_name parsed incompletely to real 0.\n",
      "Warning 1: Value '西山区' of field vector_out_1.dt_name parsed incompletely to real 0.\n",
      "Warning 1: Value '东川区' of field vector_out_1.dt_name parsed incompletely to real 0.\n",
      "Warning 1: Value '呈贡区' of field vector_out_1.dt_name parsed incompletely to real 0.\n",
      "Warning 1: Value '晋宁区' of field vector_out_1.dt_name parsed incompletely to real 0.\n",
      "Warning 1: Value '富民县' of field vector_out_1.dt_name parsed incompletely to real 0.\n",
      "Warning 1: Value '宜良县' of field vector_out_1.dt_name parsed incompletely to real 0.\n",
      "Warning 1: Value '石林彝族自治县' of field vector_out_1.dt_name parsed incompletely to real 0.\n",
      "Warning 1: Value '嵩明县' of field vector_out_1.dt_name parsed incompletely to real 0.\n",
      "Warning 1: Value '禄劝彝族苗族自治县' of field vector_out_1.dt_name parsed incompletely to real 0.\n",
      "Warning 1: Value '寻甸回族彝族自治县' of field vector_out_1.dt_name parsed incompletely to real 0.\n",
      "Warning 1: Value '安宁市' of field vector_out_1.dt_name parsed incompletely to real 0.\n"
     ]
    }
   ],
   "source": [
    "field_name = 'dt_name'\n",
    "ds = ogr.Open(path_kunming, 0)  # 0是只读，1是可写\n",
    "layer = ds.GetLayer()           # 获取矢量文件图层Layer\n",
    "driver = ogr.GetDriverByName('ESRI Shapefile')   ## 文件驱动（用于写出文件）\n",
    "ds_out = driver.CreateDataSource(path_kunming_out_1)  ## 创建数据源DataSource\n",
    "layer_out = ds_out.CreateLayer('vector_new_1', geom_type=ogr.wkbPolygon, srs=layer.GetSpatialRef())\n",
    "field_defn = ogr.FieldDefn(field_name, ogr.OFTReal)   ## 定义字段\n",
    "layer_out.CreateField(field_defn)    ## 新建字段\n",
    "# fea_defn = layer_out.GetFeature(0).GetDefnRef()    ## layer_out没有要素，故.GetFeature(0)会报错\n",
    "fea_defn = layer_out.GetLayerDefn()  ## 获得要素定义\n",
    "### 创建要素（将复制‘昆明市边界_wgs84.shp’文件中要素)\n",
    "for fea in layer:\n",
    "    geo = fea.geometry()             ## 获得原矢量要素的几何\n",
    "    fea_out = ogr.Feature(fea_defn)\n",
    "    fea_out.SetGeometry(geo)\n",
    "    fea_out.SetField(field_name, fea.GetField(field_name))\n",
    "    layer_out.CreateFeature(fea_out)\n",
    "ds_out = None       #  ### 保存/关闭 DataSource (!重要)\n",
    "\n",
=======
    "field_name = 'dt_name'\n",
    "in_ds = ogr.Open(path_kunming, 0)    # 0是只读，1是可写\n",
    "in_layer = in_ds.GetLayer()             # 获取矢量文件图层Layer\n",
    "## 定义写出文件\n",
    "driver = ogr.GetDriverByName('ESRI Shapefile')   ## 文件驱动（用于写出文件）\n",
    "ds_out = driver.CreateDataSource(path_kunming_out_1)  ## 创建数据源DataSource\n",
    "layer_out = ds_out.CreateLayer('kunming_districts_dtname', geom_type=ogr.wkbPolygon, srs=in_layer.GetSpatialRef())\n",
    "field_defn = ogr.FieldDefn(field_name, ogr.OFTString)   ## 定义属性字段\n",
    "layer_out.CreateField(field_defn)    ## 在写出图层中新建属性字段\n",
    "# fea_defn = layer_out.GetFeature(0).GetDefnRef()    ## layer_out没有要素，故.GetFeature(0)会报错\n",
    "fea_defn = layer_out.GetLayerDefn()  ## 获得要素定义（即图层定义）\n",
    "### 创建要素（将复制‘昆明市边界_wgs84.shp’文件中要素)\n",
    "for i in range(layer.GetFeatureCount()):   ##\n",
    "    in_fea = in_layer.GetFeature(i)\n",
    "    in_geo = in_fea.geometry()             ## 获得原矢量要素的几何\n",
    "    fea_out = ogr.Feature(fea_defn)\n",
    "    fea_out.SetGeometry(in_geo)\n",
    "    field_value = in_fea.GetField(field_name)\n",
    "    print(field_value)\n",
    "    fea_out.SetField(0, field_value)\n",
    "    layer_out.CreateFeature(fea_out)\n",
    "ds_out = None         #  ### 保存/关闭 DataSource (!重要)\n",
>>>>>>> upstream/main
    "\n"
   ]
  },
  {
   "attachments": {},
   "cell_type": "markdown",
   "metadata": {},
   "source": [
    "#### 3.2 写出只含有呈贡区的矢量文件\n"
   ]
  },
  {
   "cell_type": "code",
<<<<<<< HEAD
   "execution_count": 8,
=======
   "execution_count": 15,
>>>>>>> upstream/main
   "metadata": {},
   "outputs": [
    {
     "name": "stdout",
     "output_type": "stream",
     "text": [
      "Number of fields (before field creating):  0\n",
      "Number of fields (after field creating):  8\n"
     ]
<<<<<<< HEAD
    },
    {
     "name": "stderr",
     "output_type": "stream",
     "text": [
      "Warning 1: One or several characters couldn't be converted correctly from UTF-8 to ISO-8859-1.  This warning will not be emitted anymore.\n"
     ]
    }
   ],
   "source": [
    "ds = ogr.Open(path_kunming, 0)           # 0是只读，1是可写\n",
    "layer = ds.GetLayer()    # 获取矢量文件Layer\n",
    "### \n",
    "driver = ogr.GetDriverByName('ESRI Shapefile')\n",
    "ds_out = driver.CreateDataSource(path_kunming_out_2)\n",
    "layer_out = ds_out.CreateLayer('vector_new_2', geom_type=ogr.wkbPolygon, srs=layer.GetSpatialRef())\n",
=======
    }
   ],
   "source": [
    "in_ds = ogr.Open(path_kunming, 0)           # 0是只读，1是可写\n",
    "in_layer = in_ds.GetLayer()    # 获取矢量文件Layer\n",
    "### 创建写出文件\n",
    "driver = ogr.GetDriverByName('ESRI Shapefile')\n",
    "ds_out = driver.CreateDataSource(path_kunming_out_2)\n",
    "layer_out = ds_out.CreateLayer('kunming_chenggong', geom_type=ogr.wkbPolygon, srs=in_layer.GetSpatialRef())\n",
>>>>>>> upstream/main
    "fea_defn = layer_out.GetLayerDefn()    ## 获得空要素定义(或空图层定义)\n",
    "\n",
    "### 创建字段\n",
    "layer_defn = layer_out.GetLayerDefn()\n",
    "print('Number of fields (before field creating): ', layer_defn.GetFieldCount())  ### 字段创建前字段数\n",
<<<<<<< HEAD
    "fea = layer.GetFeature(0)\n",
    "for i in range(fea.GetFieldCount()):\n",
    "  field_defn = fea.GetFieldDefnRef(i)\n",
=======
    "in_fea = in_layer.GetFeature(0)\n",
    "for i in range(in_fea.GetFieldCount()):\n",
    "  field_defn = in_fea.GetFieldDefnRef(i)\n",
>>>>>>> upstream/main
    "  layer_out.CreateField(field_defn)\n",
    "layer_defn = layer_out.GetLayerDefn()\n",
    "print('Number of fields (after field creating): ', layer_defn.GetFieldCount())\n",
    "\n",
    "### 创建要素（复制‘昆明市边界_wgs84.shp’文件中要素)\n",
<<<<<<< HEAD
    "for fea in layer:\n",
    "  if fea.GetField('dt_name') == '呈贡区':\n",
    "    fea_out = ogr.Feature(fea_defn)\n",
    "    fea_out.SetGeometry(fea.geometry())\n",
    "    for i in range(fea.GetFieldCount()):\n",
    "      field_value = fea.GetField(i)\n",
=======
    "for i in range(in_layer.GetFeatureCount()):   ##\n",
    "  in_fea = layer.GetFeature(i)\n",
    "  if in_fea.GetField('dt_name') == '呈贡区':\n",
    "    fea_out = ogr.Feature(fea_defn)\n",
    "    fea_out.SetGeometry(in_fea.geometry())\n",
    "    for i in range(in_fea.GetFieldCount()):\n",
    "      field_value = in_fea.GetField(i)\n",
>>>>>>> upstream/main
    "      fea_out.SetField(i, field_value)\n",
    "    layer_out.CreateFeature(fea_out)\n",
    "ds_out = None        #  ### 保存/关闭 DataSource (重要)\n",
    "\n"
   ]
  },
  {
   "cell_type": "markdown",
   "metadata": {},
   "source": [
<<<<<<< HEAD
    "### 作业：写出只含五华区、盘龙区、西山区、官渡区、呈贡区的矢量文件。"
=======
    "#### 课后练习：写出只含五华区、盘龙区、西山区、官渡区、呈贡区的矢量文件。"
>>>>>>> upstream/main
   ]
  }
 ],
 "metadata": {
  "kernelspec": {
   "display_name": "venv",
   "language": "python",
   "name": "python3"
  },
  "language_info": {
   "codemirror_mode": {
    "name": "ipython",
    "version": 3
   },
   "file_extension": ".py",
   "mimetype": "text/x-python",
   "name": "python",
   "nbconvert_exporter": "python",
   "pygments_lexer": "ipython3",
   "version": "3.9.18"
  },
  "orig_nbformat": 4
 },
 "nbformat": 4,
 "nbformat_minor": 2
}
